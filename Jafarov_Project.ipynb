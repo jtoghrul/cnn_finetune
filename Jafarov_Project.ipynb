{
 "cells": [
  {
   "cell_type": "markdown",
   "metadata": {},
   "source": [
    "**Analysis of High Dimensional Data**\n",
    "\n",
    "*Kidney Transplantation Prediction*\n",
    "\n",
    "Toghrul Jafarov\n",
    "\n",
    "2018"
   ]
  },
  {
   "cell_type": "markdown",
   "metadata": {},
   "source": [
    "# Table of Contents\n",
    "* [Import Packages](#import)\n",
    "* [Read in Data](#read)\n",
    "* [Partition dataset into train / test sets](#parition)\n",
    "* [Solving imbalance class problem](#imbalance)\n",
    "* [PCA](#pca)\n",
    "* [Find the most important genes](#imp_genes)\n",
    "* [Modelling & Hyperparameter Optimization](#modelling)\n",
    "* [RandomForest](#rf)\n",
    "* [Logistic regression](#lr)\n",
    "* [Summary of Modelling](#summary)\n",
    "* [Ensemble learning](#ensemble)"
   ]
  },
  {
   "cell_type": "code",
   "execution_count": null,
   "metadata": {
    "collapsed": true
   },
   "outputs": [],
   "source": []
  },
  {
   "cell_type": "markdown",
   "metadata": {},
   "source": [
    "# Import packages <a class=\"anchor\" id=\"import\"></a>\n",
    "\n",
    "All the packages and functions that are required to perform this analysis is located on the `utils.py` file."
   ]
  },
  {
   "cell_type": "code",
   "execution_count": 1,
   "metadata": {
    "collapsed": true
   },
   "outputs": [],
   "source": [
    "%matplotlib inline\n",
    "%run utils.py # import packages and functions\n",
    "from IPython.display import Image # add image to Jupyter notebook"
   ]
  },
  {
   "cell_type": "code",
   "execution_count": null,
   "metadata": {
    "collapsed": true
   },
   "outputs": [],
   "source": []
  },
  {
   "cell_type": "markdown",
   "metadata": {},
   "source": [
    "# Read in dataset <a class=\"anchor\" id=\"read\"></a>\n",
    "\n",
    "**R** programming language was used to convert `rda` files  into `csv` format. R script located in the project folder `data_transformation.r`.\n",
    "\n",
    "`read_genes` function allows us to read genes and rejection status from `csv` files and join them based on `Patient_ID`."
   ]
  },
  {
   "cell_type": "code",
   "execution_count": 2,
   "metadata": {
    "collapsed": true
   },
   "outputs": [],
   "source": [
    "# location of the files\n",
    "genes_file = '../input/geneExporession.csv'\n",
    "reject_file = '../input/rejectionStatus.csv'\n",
    "\n",
    "# read files and combine them into one dataframe\n",
    "genes = read_genes(genes_file, reject_file)"
   ]
  },
  {
   "cell_type": "markdown",
   "metadata": {
    "collapsed": true
   },
   "source": [
    "Let's look at some basic statistics about `genes` dataframe."
   ]
  },
  {
   "cell_type": "code",
   "execution_count": 3,
   "metadata": {},
   "outputs": [
    {
     "name": "stdout",
     "output_type": "stream",
     "text": [
      "Gene Expression dimemsion :  (282, 54676)\n",
      "Index(['1007_s_at', '1053_at', '117_at', '121_at', '1255_g_at', '1294_at',\n",
      "       '1316_at', '1320_at', '1405_i_at', '1431_at',\n",
      "       ...\n",
      "       'AFFX-r2-Ec-bioD-5_at', 'AFFX-r2-P1-cre-3_at', 'AFFX-r2-P1-cre-5_at',\n",
      "       'AFFX-ThrX-3_at', 'AFFX-ThrX-5_at', 'AFFX-ThrX-M_at', 'AFFX-TrpnX-3_at',\n",
      "       'AFFX-TrpnX-5_at', 'AFFX-TrpnX-M_at', 'Reject_Status'],\n",
      "      dtype='object', length=54676)\n"
     ]
    }
   ],
   "source": [
    "# basic statistics\n",
    "print('Gene Expression dimemsion : ', genes.shape)\n",
    "\n",
    "# colum names of Gene Expression dataframe\n",
    "print(genes.columns)"
   ]
  },
  {
   "cell_type": "markdown",
   "metadata": {},
   "source": [
    "Dataframe consists of **282** observations and **54676** features. We have high dimensional dataframe where `features >> observations`. Column names indicate gene names, which will be used to identify the most important genes."
   ]
  },
  {
   "cell_type": "code",
   "execution_count": 4,
   "metadata": {},
   "outputs": [
    {
     "data": {
      "text/html": [
       "<div>\n",
       "<style>\n",
       "    .dataframe thead tr:only-child th {\n",
       "        text-align: right;\n",
       "    }\n",
       "\n",
       "    .dataframe thead th {\n",
       "        text-align: left;\n",
       "    }\n",
       "\n",
       "    .dataframe tbody tr th {\n",
       "        vertical-align: top;\n",
       "    }\n",
       "</style>\n",
       "<table border=\"1\" class=\"dataframe\">\n",
       "  <thead>\n",
       "    <tr style=\"text-align: right;\">\n",
       "      <th></th>\n",
       "      <th>1007_s_at</th>\n",
       "      <th>1053_at</th>\n",
       "      <th>117_at</th>\n",
       "      <th>121_at</th>\n",
       "      <th>1255_g_at</th>\n",
       "      <th>1294_at</th>\n",
       "      <th>1316_at</th>\n",
       "      <th>1320_at</th>\n",
       "      <th>1405_i_at</th>\n",
       "      <th>1431_at</th>\n",
       "      <th>...</th>\n",
       "      <th>AFFX-r2-Ec-bioD-5_at</th>\n",
       "      <th>AFFX-r2-P1-cre-3_at</th>\n",
       "      <th>AFFX-r2-P1-cre-5_at</th>\n",
       "      <th>AFFX-ThrX-3_at</th>\n",
       "      <th>AFFX-ThrX-5_at</th>\n",
       "      <th>AFFX-ThrX-M_at</th>\n",
       "      <th>AFFX-TrpnX-3_at</th>\n",
       "      <th>AFFX-TrpnX-5_at</th>\n",
       "      <th>AFFX-TrpnX-M_at</th>\n",
       "      <th>Reject_Status</th>\n",
       "    </tr>\n",
       "  </thead>\n",
       "  <tbody>\n",
       "    <tr>\n",
       "      <th>0</th>\n",
       "      <td>-0.509888</td>\n",
       "      <td>0.907285</td>\n",
       "      <td>-0.426397</td>\n",
       "      <td>0.620394</td>\n",
       "      <td>0.815133</td>\n",
       "      <td>-1.558944</td>\n",
       "      <td>-2.294462</td>\n",
       "      <td>-0.029182</td>\n",
       "      <td>-0.375581</td>\n",
       "      <td>-0.565908</td>\n",
       "      <td>...</td>\n",
       "      <td>-0.798925</td>\n",
       "      <td>-0.329573</td>\n",
       "      <td>-0.353009</td>\n",
       "      <td>0.120279</td>\n",
       "      <td>-0.090073</td>\n",
       "      <td>0.223092</td>\n",
       "      <td>-0.462811</td>\n",
       "      <td>-0.535511</td>\n",
       "      <td>-0.945590</td>\n",
       "      <td>0</td>\n",
       "    </tr>\n",
       "    <tr>\n",
       "      <th>1</th>\n",
       "      <td>2.099274</td>\n",
       "      <td>0.472717</td>\n",
       "      <td>-0.970433</td>\n",
       "      <td>1.939885</td>\n",
       "      <td>1.389738</td>\n",
       "      <td>-0.808953</td>\n",
       "      <td>-0.151921</td>\n",
       "      <td>-1.465310</td>\n",
       "      <td>-0.531330</td>\n",
       "      <td>-0.671876</td>\n",
       "      <td>...</td>\n",
       "      <td>0.918052</td>\n",
       "      <td>1.614725</td>\n",
       "      <td>1.682336</td>\n",
       "      <td>-0.899223</td>\n",
       "      <td>-1.082886</td>\n",
       "      <td>-1.094667</td>\n",
       "      <td>-1.420273</td>\n",
       "      <td>1.936127</td>\n",
       "      <td>0.564888</td>\n",
       "      <td>0</td>\n",
       "    </tr>\n",
       "    <tr>\n",
       "      <th>2</th>\n",
       "      <td>1.515065</td>\n",
       "      <td>0.861931</td>\n",
       "      <td>-0.095270</td>\n",
       "      <td>0.119333</td>\n",
       "      <td>-1.291400</td>\n",
       "      <td>1.238506</td>\n",
       "      <td>-0.792613</td>\n",
       "      <td>-1.551733</td>\n",
       "      <td>0.958593</td>\n",
       "      <td>-0.068830</td>\n",
       "      <td>...</td>\n",
       "      <td>0.122643</td>\n",
       "      <td>-0.151553</td>\n",
       "      <td>-0.243025</td>\n",
       "      <td>0.704425</td>\n",
       "      <td>0.321570</td>\n",
       "      <td>0.643790</td>\n",
       "      <td>-0.502623</td>\n",
       "      <td>0.958246</td>\n",
       "      <td>-0.213871</td>\n",
       "      <td>0</td>\n",
       "    </tr>\n",
       "    <tr>\n",
       "      <th>3</th>\n",
       "      <td>-1.670543</td>\n",
       "      <td>-1.042448</td>\n",
       "      <td>-0.195428</td>\n",
       "      <td>-0.798114</td>\n",
       "      <td>-0.367502</td>\n",
       "      <td>-0.056506</td>\n",
       "      <td>-0.875353</td>\n",
       "      <td>-1.698253</td>\n",
       "      <td>-0.638380</td>\n",
       "      <td>-0.788331</td>\n",
       "      <td>...</td>\n",
       "      <td>0.246163</td>\n",
       "      <td>-0.357388</td>\n",
       "      <td>-0.459229</td>\n",
       "      <td>0.141840</td>\n",
       "      <td>-0.388244</td>\n",
       "      <td>-0.387571</td>\n",
       "      <td>1.158516</td>\n",
       "      <td>-1.424770</td>\n",
       "      <td>0.644184</td>\n",
       "      <td>0</td>\n",
       "    </tr>\n",
       "    <tr>\n",
       "      <th>4</th>\n",
       "      <td>-0.266156</td>\n",
       "      <td>-1.221776</td>\n",
       "      <td>-1.089340</td>\n",
       "      <td>0.227828</td>\n",
       "      <td>-0.499106</td>\n",
       "      <td>-1.990728</td>\n",
       "      <td>-1.764210</td>\n",
       "      <td>-0.537985</td>\n",
       "      <td>-1.429030</td>\n",
       "      <td>-0.542326</td>\n",
       "      <td>...</td>\n",
       "      <td>-0.659528</td>\n",
       "      <td>-0.681865</td>\n",
       "      <td>-1.014025</td>\n",
       "      <td>-0.744076</td>\n",
       "      <td>-0.798634</td>\n",
       "      <td>-0.786791</td>\n",
       "      <td>-1.645905</td>\n",
       "      <td>1.179429</td>\n",
       "      <td>0.454224</td>\n",
       "      <td>0</td>\n",
       "    </tr>\n",
       "  </tbody>\n",
       "</table>\n",
       "<p>5 rows × 54676 columns</p>\n",
       "</div>"
      ],
      "text/plain": [
       "   1007_s_at   1053_at    117_at    121_at  1255_g_at   1294_at   1316_at  \\\n",
       "0  -0.509888  0.907285 -0.426397  0.620394   0.815133 -1.558944 -2.294462   \n",
       "1   2.099274  0.472717 -0.970433  1.939885   1.389738 -0.808953 -0.151921   \n",
       "2   1.515065  0.861931 -0.095270  0.119333  -1.291400  1.238506 -0.792613   \n",
       "3  -1.670543 -1.042448 -0.195428 -0.798114  -0.367502 -0.056506 -0.875353   \n",
       "4  -0.266156 -1.221776 -1.089340  0.227828  -0.499106 -1.990728 -1.764210   \n",
       "\n",
       "    1320_at  1405_i_at   1431_at      ...        AFFX-r2-Ec-bioD-5_at  \\\n",
       "0 -0.029182  -0.375581 -0.565908      ...                   -0.798925   \n",
       "1 -1.465310  -0.531330 -0.671876      ...                    0.918052   \n",
       "2 -1.551733   0.958593 -0.068830      ...                    0.122643   \n",
       "3 -1.698253  -0.638380 -0.788331      ...                    0.246163   \n",
       "4 -0.537985  -1.429030 -0.542326      ...                   -0.659528   \n",
       "\n",
       "   AFFX-r2-P1-cre-3_at  AFFX-r2-P1-cre-5_at  AFFX-ThrX-3_at  AFFX-ThrX-5_at  \\\n",
       "0            -0.329573            -0.353009        0.120279       -0.090073   \n",
       "1             1.614725             1.682336       -0.899223       -1.082886   \n",
       "2            -0.151553            -0.243025        0.704425        0.321570   \n",
       "3            -0.357388            -0.459229        0.141840       -0.388244   \n",
       "4            -0.681865            -1.014025       -0.744076       -0.798634   \n",
       "\n",
       "   AFFX-ThrX-M_at  AFFX-TrpnX-3_at  AFFX-TrpnX-5_at  AFFX-TrpnX-M_at  \\\n",
       "0        0.223092        -0.462811        -0.535511        -0.945590   \n",
       "1       -1.094667        -1.420273         1.936127         0.564888   \n",
       "2        0.643790        -0.502623         0.958246        -0.213871   \n",
       "3       -0.387571         1.158516        -1.424770         0.644184   \n",
       "4       -0.786791        -1.645905         1.179429         0.454224   \n",
       "\n",
       "   Reject_Status  \n",
       "0              0  \n",
       "1              0  \n",
       "2              0  \n",
       "3              0  \n",
       "4              0  \n",
       "\n",
       "[5 rows x 54676 columns]"
      ]
     },
     "execution_count": 4,
     "metadata": {},
     "output_type": "execute_result"
    }
   ],
   "source": [
    "# show first 5 observations of dataframe\n",
    "genes.head()"
   ]
  },
  {
   "cell_type": "code",
   "execution_count": null,
   "metadata": {
    "collapsed": true
   },
   "outputs": [],
   "source": []
  },
  {
   "cell_type": "markdown",
   "metadata": {},
   "source": [
    "# Partition dataset into train / test sets <a class=\"anchor\" id=\"partition\"></a>\n",
    "\n",
    "In order to test the performance of the model and evaluate the model by using Cross-validation, original dataset was spitted into train and test sets. As the classes are imbalanced, `Stratified Shuffle Split` is used, which shuffles the data each time before splitting (randomized folds). The same class balance for test and train datasets is preserved. \n",
    "\n",
    "Train set contains 70% (197), test set 30% (85) of original data. \n",
    "\n",
    "After splitting original data, class balance is: \n",
    "* 1) train data 0 (accept) = **73.1%**, 1 (reject) = **26.9%**\n",
    "* 2) test data 0 (accept) = **72.9%**, 1(reject) = **27.1%**"
   ]
  },
  {
   "cell_type": "code",
   "execution_count": 5,
   "metadata": {
    "collapsed": true
   },
   "outputs": [],
   "source": [
    "# seperate predictors and target variable\n",
    "X = genes.loc[:, :'Reject_Status']\n",
    "y = genes.Reject_Status"
   ]
  },
  {
   "cell_type": "code",
   "execution_count": 6,
   "metadata": {
    "collapsed": true
   },
   "outputs": [],
   "source": [
    "# initialize Stratified splitting\n",
    "sss = StratifiedShuffleSplit(n_splits=1, test_size=0.3, random_state=1)\n",
    "\n",
    "# loop over each split and assign values on different variables\n",
    "for train_index, test_index in sss.split(X, y):\n",
    "    \n",
    "    train_df = genes.loc[list(train_index), :] # train data frame for up/down sampling\n",
    "    \n",
    "    X_train = X.loc[list(train_index), :] # train features w/o sampling\n",
    "    X_test  = X.loc[list(test_index), :] # test features\n",
    "    y_train = y[train_index] # train target w/o sampling\n",
    "    y_test  = y[test_index] # test target"
   ]
  },
  {
   "cell_type": "code",
   "execution_count": 7,
   "metadata": {},
   "outputs": [
    {
     "name": "stdout",
     "output_type": "stream",
     "text": [
      "Train dataset class distribution:\n",
      "0    73.096447\n",
      "1    26.903553\n",
      "Name: Reject_Status, dtype: float64\n",
      "\n",
      "Test dataset class distribution:\n",
      "0    72.941176\n",
      "1    27.058824\n",
      "Name: Reject_Status, dtype: float64\n"
     ]
    }
   ],
   "source": [
    "print('Train dataset class distribution:')\n",
    "print(y_train.value_counts(normalize=True) * 100)\n",
    "\n",
    "print('\\nTest dataset class distribution:')\n",
    "print(y_test.value_counts(normalize=True) * 100)"
   ]
  },
  {
   "cell_type": "code",
   "execution_count": null,
   "metadata": {
    "collapsed": true
   },
   "outputs": [],
   "source": []
  },
  {
   "cell_type": "markdown",
   "metadata": {},
   "source": [
    "# Solving imbalance class problem <a class=\"anchor\" id=\"imbalance\"></a>\n",
    "\n",
    "Imbalanced class dataset can increase model accuracy artificially. In our case without any machine learning model, predicting 0 (accept) each time we can get 73% of accuracy.\n",
    "\n",
    "* **Up-sampling** is the process of randomly duplicating observations from the minority class in order to reinforce its signal. The most common way is to simply resample with replacement.\n",
    "\n",
    "* **Down-sampling** involves randomly removing observations from the majority class to prevent its signal dominating the learning algorithm.  The most common heuristic is resampling without replacement.\n",
    "\n",
    "After resampling original dataset the  ratio of the two classes is now 1:1.\n",
    "\n",
    "But the number of the observations is different:\n",
    "* Original Data     : *197*\n",
    "* Down-sampled Data : *108*\n",
    "* Up-sampled Data   : *288*"
   ]
  },
  {
   "cell_type": "code",
   "execution_count": 8,
   "metadata": {},
   "outputs": [
    {
     "name": "stdout",
     "output_type": "stream",
     "text": [
      "Down sampling\n",
      "\n",
      "Class balance : \n",
      "1    53\n",
      "0    53\n",
      "Name: Reject_Status, dtype: int64\n",
      "Up sampling\n",
      "\n",
      "Class balance : \n",
      "1    144\n",
      "0    144\n",
      "Name: Reject_Status, dtype: int64\n"
     ]
    }
   ],
   "source": [
    "# create train data frame for up and down sampling\n",
    "print('Down sampling\\n')\n",
    "X_train_down, y_train_down = balance_classes(train_df, balance='down') # down sampling\n",
    "print('Up sampling\\n')\n",
    "X_train_up, y_train_up = balance_classes(train_df, balance='up') # up sampling"
   ]
  },
  {
   "cell_type": "code",
   "execution_count": null,
   "metadata": {
    "collapsed": true
   },
   "outputs": [],
   "source": []
  },
  {
   "cell_type": "markdown",
   "metadata": {},
   "source": [
    "# PCA <a class=\"anchor\" id=\"pca\"></a>\n",
    "\n",
    "## Choosing optimal number of components\n",
    "\n",
    "In order to find out the optimal number of principal components, KNN and Logistic Regression have been tested with different values of principal components (3, 5, 7, 9), and with different values of the prediction model parameters. For both models 9 principal components were the best."
   ]
  },
  {
   "cell_type": "code",
   "execution_count": 9,
   "metadata": {},
   "outputs": [
    {
     "data": {
      "image/png": "[encoded data removed]",
      "text/plain": [
       "<matplotlib.figure.Figure at 0x1f4f52ab4a8>"
      ]
     },
     "metadata": {},
     "output_type": "display_data"
    }
   ],
   "source": [
    "# explained variance ratio with cumulative sum\n",
    "pca = PCA(n_components=30, random_state=1)\n",
    "X_pca = pca.fit_transform(X.values)\n",
    "\n",
    "# plot cumulative variance\n",
    "plt.figure(figsize=(10, 6))\n",
    "plt.bar(range(1, 31), pca.explained_variance_ratio_, alpha=0.5, align='center')\n",
    "plt.title('Explained variance ratio by Principal components-PCA', fontsize=16)\n",
    "plt.step(range(1, 31), np.cumsum(pca.explained_variance_ratio_), where='mid')\n",
    "plt.ylabel('Explained variance ratio')\n",
    "plt.xlabel('Principal components')\n",
    "\n",
    "plt.axvline(9, linestyle=':', label='n_components chosen', c='red')\n",
    "plt.legend(prop=dict(size=12))\n",
    "\n",
    "plt.savefig('../figures/explained_var_ratio.png')\n",
    "plt.show()"
   ]
  },
  {
   "cell_type": "markdown",
   "metadata": {
    "collapsed": true
   },
   "source": [
    "On the above figure:\n",
    "* *Histogram*: explained variance of each component\n",
    "* *Blue line*: cumulative explained variance ratio\n",
    "* *Red dotted* line: optimal number of components"
   ]
  },
  {
   "cell_type": "markdown",
   "metadata": {},
   "source": [
    "## Plot of variability of the classes\n",
    "\n",
    "Following figure shows gene variation associated with kidney rejection. On the x-axes first principal component, on the y-axes second principal component were used. We can observe from the figure that there is highly variance for each class."
   ]
  },
  {
   "cell_type": "code",
   "execution_count": 10,
   "metadata": {},
   "outputs": [
    {
     "data": {
      "image/png": "[encoded data removed]",
      "text/plain": [
       "<matplotlib.figure.Figure at 0x1f4fdda50b8>"
      ]
     },
     "metadata": {},
     "output_type": "display_data"
    }
   ],
   "source": [
    "plt.figure(figsize=(10, 6))\n",
    "plt.scatter(X_pca[y == 0, 0], X_pca[y == 0, 1], label='0 - accept')\n",
    "plt.scatter(X_pca[y == 1, 0], X_pca[y == 1, 1], label='1 - reject')\n",
    "\n",
    "plt.title('Variation of the classes based on first two components', fontsize=16)\n",
    "plt.xlabel('PCA Component 1')\n",
    "plt.ylabel('PCA Component 2')\n",
    "plt.legend(loc='best', prop=dict(size=12))\n",
    "\n",
    "plt.savefig('../figures/variation_classes_pca.png')\n",
    "plt.show()"
   ]
  },
  {
   "cell_type": "code",
   "execution_count": null,
   "metadata": {
    "collapsed": true
   },
   "outputs": [],
   "source": []
  },
  {
   "cell_type": "markdown",
   "metadata": {},
   "source": [
    "# Find the most important `genes`. <a class=\"anchor\" id=\"imp_genes\"></a>\n",
    "\n",
    "In order to find out the most important genes in predicting the kidney rejection, **cosine similarity** is used. After performing PCA on the original dataset, cosine similarity is calculated between first principal component and all genes. Genes with high similarity are the important most ones or explains the most variance. We used first principal component, because it explains the most variance ratio about dataset."
   ]
  },
  {
   "cell_type": "code",
   "execution_count": 11,
   "metadata": {
    "collapsed": true
   },
   "outputs": [],
   "source": [
    "# get first component from PCA\n",
    "comp = X_pca[:, 0]"
   ]
  },
  {
   "cell_type": "code",
   "execution_count": 12,
   "metadata": {
    "collapsed": true
   },
   "outputs": [],
   "source": [
    "# find top 10 similar genes / columns\n",
    "top_index, top_columns, top_similarity = important_genes(X, comp)"
   ]
  },
  {
   "cell_type": "code",
   "execution_count": 13,
   "metadata": {},
   "outputs": [
    {
     "data": {
      "text/plain": [
       "['206362_x_at',\n",
       " '239565_at',\n",
       " '220538_at',\n",
       " '225211_at',\n",
       " '213441_x_at',\n",
       " '221099_at',\n",
       " '232367_x_at',\n",
       " '241486_at',\n",
       " '229496_at',\n",
       " '220962_s_at']"
      ]
     },
     "execution_count": 13,
     "metadata": {},
     "output_type": "execute_result"
    }
   ],
   "source": [
    "# the most important columns / genes\n",
    "top_columns"
   ]
  },
  {
   "cell_type": "code",
   "execution_count": 14,
   "metadata": {},
   "outputs": [
    {
     "data": {
      "text/plain": [
       "[0.8445145100282964,\n",
       " 0.8315247992097108,\n",
       " 0.8303961900084451,\n",
       " 0.8208045965949589,\n",
       " 0.8111385853551566,\n",
       " 0.8055341924729429,\n",
       " 0.8054272510065696,\n",
       " 0.8049396093587725,\n",
       " 0.8033270086685911,\n",
       " 0.802821098532412]"
      ]
     },
     "execution_count": 14,
     "metadata": {},
     "output_type": "execute_result"
    }
   ],
   "source": [
    "# corresponding similarity for important genes\n",
    "top_similarity"
   ]
  },
  {
   "cell_type": "code",
   "execution_count": null,
   "metadata": {
    "collapsed": true
   },
   "outputs": [],
   "source": []
  },
  {
   "cell_type": "markdown",
   "metadata": {},
   "source": [
    "# Modelling & Hyperparameter Optimization <a class=\"anchor\" id=\"modelling\"></a>\n",
    "\n",
    "Three type of classification algorithms have been used for this analysis: `Random Forest`, `Logistic Regression` and `K-Nearest Neighborhood (KNN)`. Principal Component Analysis (PCA) applied to reduce the dimensionality as well. Before performing any transformation and modelling data has been scaled to zero mean and unit variance.\n",
    "\n",
    "To sum up, we have 3 different versions of the same data: `original data`, `up-sampled data` and `down-sampled data`; and 3 classification models.\n",
    "\n",
    "We tried to understand which dataset and classification model perform better on kidney rejection problem. \n",
    "\n",
    "Apart from **ROC AUC** metric, **confusion matrix, precision and recall** measures are used to assess the classification performance.\n",
    "\n",
    "\n",
    "Now we have **three** different dataset:\n",
    "* X_train, y_train (original)\n",
    "* X_train_up, y_train_up (up-sampled)\n",
    "* X_train_down, y_train_down (down_sampled)\n",
    "\n",
    "`Pipeline` from *skleanr* package is used to specify each step of the execution. Pipeline allows us to specify preprocessing and modelling functions, which will execute consequtively. For KNN example it will look like:\n",
    "\n",
    "```python\n",
    "pipe_knn = Pipeline(steps=[\n",
    "    ('scl', StandardScaler()), # scale the matrix\n",
    "    ('pca', PCA(n_components=2, random_state=1)), # reduce the dimensionality\n",
    "    ('knn', KNeighborsClassifier(n_neighbors=4, p=2, metric='minkowski', n_jobs=-1)) # perform KNN\n",
    "])\n",
    "```\n",
    "\n",
    "Afterwards we a dictionary of possible value to explore for each step of the Pipeline. On the following example, we want to explore as a principal component ```python [3, 5, 7]``` and as number of neighbors for KNN ```python [3, 4, 5]```.\n",
    "\n",
    "```python\n",
    "param_grid = [\n",
    "    {\n",
    "        'pca__n_components': [3, 5, 7],\n",
    "        'knn__n_neighbors': [3, 4, 5]\n",
    "    }\n",
    "]\n",
    "```\n",
    "\n",
    "`GridSearchCV` is used in order to explore all the combination of the values by evaluating *3-folds Cross-validation* each time. `ROC AUC` is used as a metric.\n",
    "\n",
    "```python\n",
    "estimator = GridSearchCV(\n",
    "        pipe_knn,\n",
    "        cv=StratifiedShuffleSplit(n_splits=3, test_size=0.3, random_state=1), # preserve class balance\n",
    "        param_grid=param_grid,\n",
    "        scoring='roc_auc',\n",
    "        n_jobs=-1\n",
    "    )\n",
    "```\n",
    "\n",
    "This process is repeated for each dataset and classification model."
   ]
  },
  {
   "cell_type": "markdown",
   "metadata": {},
   "source": [
    "## K-Nearest Neighborhood <a class=\"anchor\" id=\"knn\"></a>"
   ]
  },
  {
   "cell_type": "code",
   "execution_count": 15,
   "metadata": {
    "collapsed": true
   },
   "outputs": [],
   "source": [
    "# possible values for parameters to explore\n",
    "n_components = [3, 5, 7, 9]\n",
    "neighbors = range(2, 5)\n",
    "\n",
    "# initialize the Pipeline\n",
    "pipe_knn = Pipeline(steps=[\n",
    "    ('scl', StandardScaler()), # scale the matrix\n",
    "    ('pca', PCA(n_components=2, random_state=1)), # reduce the dimensionality\n",
    "    ('knn', KNeighborsClassifier(n_neighbors=4, p=2, metric='minkowski', n_jobs=-1)) # perform KNN\n",
    "])\n",
    "\n",
    "# param_grid - contains possible value to explore for different steps on the Pipeline\n",
    "param_grid = [\n",
    "    {\n",
    "        'pca__n_components': n_components,\n",
    "        'knn__n_neighbors': neighbors\n",
    "    }\n",
    "]"
   ]
  },
  {
   "cell_type": "markdown",
   "metadata": {},
   "source": [
    "#### Without sampling"
   ]
  },
  {
   "cell_type": "code",
   "execution_count": 16,
   "metadata": {},
   "outputs": [
    {
     "name": "stdout",
     "output_type": "stream",
     "text": [
      "Training AUC : 0.704\n",
      "Best Parameters :  {'knn__n_neighbors': 3, 'pca__n_components': 9}\n"
     ]
    },
    {
     "data": {
      "image/png": "[encoded data removed]",
      "text/plain": [
       "<matplotlib.figure.Figure at 0x1f4f3680358>"
      ]
     },
     "metadata": {},
     "output_type": "display_data"
    },
    {
     "name": "stdout",
     "output_type": "stream",
     "text": [
      "             precision    recall  f1-score   support\n",
      "\n",
      "          0       0.77      0.79      0.78        62\n",
      "          1       0.38      0.35      0.36        23\n",
      "\n",
      "avg / total       0.66      0.67      0.67        85\n",
      "\n"
     ]
    }
   ],
   "source": [
    "# find optimal parameters\n",
    "estimator_knn = find_optimal_param(X_train, y_train, X_test, y_test, pipe_knn, param_grid)\n",
    "\n",
    "## Confusion matrix & classification report\n",
    "# get prediction\n",
    "y_pred_knn_label_wo_samp = estimator_knn.predict(X_test)\n",
    "y_pred_knn_prob_wo_samp = estimator_knn.predict_proba(X_test)\n",
    "\n",
    "# print confusion matrix and classification report\n",
    "classifier_stats(y_true=y_test, y_pred=y_pred_knn_label_wo_samp)"
   ]
  },
  {
   "cell_type": "markdown",
   "metadata": {},
   "source": [
    "#### Down sampling"
   ]
  },
  {
   "cell_type": "code",
   "execution_count": 17,
   "metadata": {},
   "outputs": [
    {
     "name": "stdout",
     "output_type": "stream",
     "text": [
      "Training AUC : 0.634\n",
      "Best Parameters :  {'knn__n_neighbors': 2, 'pca__n_components': 9}\n"
     ]
    },
    {
     "data": {
      "image/png": "[encoded data removed]",
      "text/plain": [
       "<matplotlib.figure.Figure at 0x1f4f3680358>"
      ]
     },
     "metadata": {},
     "output_type": "display_data"
    },
    {
     "name": "stdout",
     "output_type": "stream",
     "text": [
      "             precision    recall  f1-score   support\n",
      "\n",
      "          0       0.72      0.71      0.72        62\n",
      "          1       0.25      0.26      0.26        23\n",
      "\n",
      "avg / total       0.59      0.59      0.59        85\n",
      "\n"
     ]
    }
   ],
   "source": [
    "# find optimal parameters\n",
    "estimator_knn = find_optimal_param(X_train_down, y_train_down, X_test, y_test, pipe_knn, param_grid)\n",
    "\n",
    "## Confusion matrix & classification report\n",
    "# get prediction\n",
    "y_pred_knn_label_down_samp = estimator_knn.predict(X_test)\n",
    "y_pred_knn_prob_down_samp = estimator_knn.predict_proba(X_test)\n",
    "\n",
    "# print confusion matrix and classification report\n",
    "classifier_stats(y_true=y_test, y_pred=y_pred_knn_label_down_samp)"
   ]
  },
  {
   "cell_type": "markdown",
   "metadata": {},
   "source": [
    "#### Up sampling"
   ]
  },
  {
   "cell_type": "code",
   "execution_count": 18,
   "metadata": {},
   "outputs": [
    {
     "name": "stdout",
     "output_type": "stream",
     "text": [
      "Training AUC : 0.836\n",
      "Best Parameters :  {'knn__n_neighbors': 2, 'pca__n_components': 9}\n"
     ]
    },
    {
     "data": {
      "image/png": "[encoded data removed]",
      "text/plain": [
       "<matplotlib.figure.Figure at 0x1f4872ae9e8>"
      ]
     },
     "metadata": {},
     "output_type": "display_data"
    },
    {
     "name": "stdout",
     "output_type": "stream",
     "text": [
      "             precision    recall  f1-score   support\n",
      "\n",
      "          0       0.78      0.81      0.79        62\n",
      "          1       0.43      0.39      0.41        23\n",
      "\n",
      "avg / total       0.69      0.69      0.69        85\n",
      "\n"
     ]
    }
   ],
   "source": [
    "# find optimal parameters\n",
    "estimator_knn = find_optimal_param(X_train_up, y_train_up, X_test, y_test, pipe_knn, param_grid)\n",
    "\n",
    "## Confusion matrix & classification report\n",
    "# get prediction\n",
    "y_pred_knn_label_up_samp = estimator_knn.predict(X_test)\n",
    "y_pred_knn_prob_up_samp = estimator_knn.predict_proba(X_test)\n",
    "\n",
    "# print confusion matrix and classification report\n",
    "classifier_stats(y_true=y_test, y_pred=y_pred_knn_label_up_samp)"
   ]
  },
  {
   "cell_type": "code",
   "execution_count": null,
   "metadata": {
    "collapsed": true
   },
   "outputs": [],
   "source": []
  },
  {
   "cell_type": "markdown",
   "metadata": {},
   "source": [
    "## RandomForest <a class=\"anchor\" id=\"rf\"></a>"
   ]
  },
  {
   "cell_type": "code",
   "execution_count": 19,
   "metadata": {
    "collapsed": true,
    "scrolled": true
   },
   "outputs": [],
   "source": [
    "pipe_rf = Pipeline(steps=[\n",
    "    ('pca', PCA(n_components=9, random_state=1)),\n",
    "    ('knn', RandomForestClassifier(n_estimators=20, max_depth=2, min_samples_leaf=3, n_jobs=-1))\n",
    "])\n",
    "\n",
    "# use a full grid over all parameters\n",
    "param_grid = [\n",
    "    {\n",
    "        'knn__n_estimators': [40, 60, 80, 100],\n",
    "        'knn__max_depth': [3, 4, 5],\n",
    "        'knn__min_samples_leaf' : [3, 4, 5]\n",
    "    }\n",
    "]"
   ]
  },
  {
   "cell_type": "markdown",
   "metadata": {},
   "source": [
    "#### Without sampling"
   ]
  },
  {
   "cell_type": "code",
   "execution_count": 20,
   "metadata": {
    "scrolled": false
   },
   "outputs": [
    {
     "name": "stdout",
     "output_type": "stream",
     "text": [
      "Training AUC : 0.809\n",
      "Best Parameters :  {'knn__max_depth': 3, 'knn__min_samples_leaf': 4, 'knn__n_estimators': 60}\n"
     ]
    },
    {
     "data": {
      "image/png": "[encoded data removed]",
      "text/plain": [
       "<matplotlib.figure.Figure at 0x1f4820cfa20>"
      ]
     },
     "metadata": {},
     "output_type": "display_data"
    },
    {
     "name": "stdout",
     "output_type": "stream",
     "text": [
      "             precision    recall  f1-score   support\n",
      "\n",
      "          0       0.77      0.97      0.86        62\n",
      "          1       0.71      0.22      0.33        23\n",
      "\n",
      "avg / total       0.75      0.76      0.72        85\n",
      "\n"
     ]
    }
   ],
   "source": [
    "# find optimal parameters\n",
    "estimator_rf = find_optimal_param(X_train, y_train, X_test, y_test, pipe_rf, param_grid)\n",
    "\n",
    "## Confusion matrix & classification report\n",
    "# get prediction\n",
    "y_pred_rf_label_wo_samp = estimator_rf.predict(X_test)\n",
    "y_pred_rf_prob_wo_samp = estimator_rf.predict_proba(X_test)\n",
    "\n",
    "# print confusion matrix and classification report\n",
    "classifier_stats(y_true=y_test, y_pred=y_pred_rf_label_wo_samp)"
   ]
  },
  {
   "cell_type": "markdown",
   "metadata": {},
   "source": [
    "#### Down sampling"
   ]
  },
  {
   "cell_type": "code",
   "execution_count": 21,
   "metadata": {},
   "outputs": [
    {
     "name": "stdout",
     "output_type": "stream",
     "text": [
      "Training AUC : 0.693\n",
      "Best Parameters :  {'knn__max_depth': 3, 'knn__min_samples_leaf': 4, 'knn__n_estimators': 80}\n"
     ]
    },
    {
     "data": {
      "image/png": "[encoded data removed]",
      "text/plain": [
       "<matplotlib.figure.Figure at 0x1f4fddabb00>"
      ]
     },
     "metadata": {},
     "output_type": "display_data"
    },
    {
     "name": "stdout",
     "output_type": "stream",
     "text": [
      "             precision    recall  f1-score   support\n",
      "\n",
      "          0       0.87      0.53      0.66        62\n",
      "          1       0.38      0.78      0.51        23\n",
      "\n",
      "avg / total       0.74      0.60      0.62        85\n",
      "\n"
     ]
    }
   ],
   "source": [
    "# find optimal parameters\n",
    "estimator_rf = find_optimal_param(X_train_down, y_train_down, X_test, y_test, pipe_rf, param_grid)\n",
    "\n",
    "## Confusion matrix & classification report\n",
    "# get prediction\n",
    "y_pred_rf_label_down_samp = estimator_rf.predict(X_test)\n",
    "y_pred_rf_prob_down_samp = estimator_rf.predict_proba(X_test)\n",
    "\n",
    "# print confusion matrix and classification report\n",
    "classifier_stats(y_true=y_test, y_pred=y_pred_rf_label_down_samp)"
   ]
  },
  {
   "cell_type": "markdown",
   "metadata": {},
   "source": [
    "#### Up sampling"
   ]
  },
  {
   "cell_type": "code",
   "execution_count": 22,
   "metadata": {},
   "outputs": [
    {
     "name": "stdout",
     "output_type": "stream",
     "text": [
      "Training AUC : 0.914\n",
      "Best Parameters :  {'knn__max_depth': 5, 'knn__min_samples_leaf': 3, 'knn__n_estimators': 40}\n"
     ]
    },
    {
     "data": {
      "image/png": "[encoded data removed]",
      "text/plain": [
       "<matplotlib.figure.Figure at 0x1f487299f60>"
      ]
     },
     "metadata": {},
     "output_type": "display_data"
    },
    {
     "name": "stdout",
     "output_type": "stream",
     "text": [
      "             precision    recall  f1-score   support\n",
      "\n",
      "          0       0.82      0.82      0.82        62\n",
      "          1       0.52      0.52      0.52        23\n",
      "\n",
      "avg / total       0.74      0.74      0.74        85\n",
      "\n"
     ]
    }
   ],
   "source": [
    "# find optimal parameters\n",
    "estimator_rf = find_optimal_param(X_train_up, y_train_up, X_test, y_test, pipe_rf, param_grid)\n",
    "\n",
    "## Confusion matrix & classification report\n",
    "# get prediction\n",
    "y_pred_rf_label_up_samp = estimator_rf.predict(X_test)\n",
    "y_pred_rf_prob_up_samp = estimator_rf.predict_proba(X_test)\n",
    "\n",
    "# print confusion matrix and classification report\n",
    "classifier_stats(y_true=y_test, y_pred=y_pred_rf_label_up_samp)"
   ]
  },
  {
   "cell_type": "code",
   "execution_count": null,
   "metadata": {
    "collapsed": true
   },
   "outputs": [],
   "source": []
  },
  {
   "cell_type": "markdown",
   "metadata": {},
   "source": [
    "## Logistic regression <a class=\"anchor\" id=\"lr\"></a>"
   ]
  },
  {
   "cell_type": "code",
   "execution_count": 23,
   "metadata": {
    "collapsed": true
   },
   "outputs": [],
   "source": [
    "# possible values for parameters\n",
    "\n",
    "n_components = [3, 5, 7, 9]\n",
    "c = [0.001, 0.01, 0.1, 1.0]\n",
    "\n",
    "pipe_lr = Pipeline(steps=[\n",
    "    ('scl', StandardScaler()),\n",
    "    ('pca', PCA(n_components=9, random_state=1)),\n",
    "    ('lr', LogisticRegression(penalty='l2', C=0.001, random_state=0, n_jobs=-1, ))\n",
    "])\n",
    "\n",
    "# use a full grid over all parameters\n",
    "param_grid = [\n",
    "    {\n",
    "        'pca__n_components': n_components,\n",
    "        'lr__penalty': ['l1', 'l2'],\n",
    "        'lr__C': c\n",
    "    }\n",
    "]"
   ]
  },
  {
   "cell_type": "markdown",
   "metadata": {},
   "source": [
    "#### Without sampling"
   ]
  },
  {
   "cell_type": "code",
   "execution_count": 24,
   "metadata": {},
   "outputs": [
    {
     "name": "stdout",
     "output_type": "stream",
     "text": [
      "Training AUC : 0.818\n",
      "Best Parameters :  {'lr__C': 0.001, 'lr__penalty': 'l2', 'pca__n_components': 9}\n"
     ]
    },
    {
     "data": {
      "image/png": "[encoded data removed]",
      "text/plain": [
       "<matplotlib.figure.Figure at 0x1f48049fa90>"
      ]
     },
     "metadata": {},
     "output_type": "display_data"
    },
    {
     "name": "stdout",
     "output_type": "stream",
     "text": [
      "             precision    recall  f1-score   support\n",
      "\n",
      "          0       0.90      0.60      0.72        62\n",
      "          1       0.43      0.83      0.57        23\n",
      "\n",
      "avg / total       0.78      0.66      0.68        85\n",
      "\n"
     ]
    }
   ],
   "source": [
    "# find optimal parameters\n",
    "estimator_lr = find_optimal_param(X_train, y_train, X_test, y_test, pipe_lr, param_grid)\n",
    "\n",
    "## Confusion matrix & classification report\n",
    "# get prediction\n",
    "y_pred_lr_label_wo_samp = estimator_lr.predict(X_test)\n",
    "y_pred_lr_prob_wo_samp = estimator_lr.predict_proba(X_test)\n",
    "\n",
    "# print confusion matrix and classification report\n",
    "classifier_stats(y_true=y_test, y_pred=y_pred_lr_label_wo_samp)"
   ]
  },
  {
   "cell_type": "markdown",
   "metadata": {},
   "source": [
    "#### Down sampling"
   ]
  },
  {
   "cell_type": "code",
   "execution_count": 25,
   "metadata": {},
   "outputs": [
    {
     "name": "stdout",
     "output_type": "stream",
     "text": [
      "Training AUC : 0.732\n",
      "Best Parameters :  {'lr__C': 0.1, 'lr__penalty': 'l1', 'pca__n_components': 9}\n"
     ]
    },
    {
     "data": {
      "image/png": "[encoded data removed]",
      "text/plain": [
       "<matplotlib.figure.Figure at 0x1f4804de630>"
      ]
     },
     "metadata": {},
     "output_type": "display_data"
    },
    {
     "name": "stdout",
     "output_type": "stream",
     "text": [
      "             precision    recall  f1-score   support\n",
      "\n",
      "          0       0.90      0.60      0.72        62\n",
      "          1       0.43      0.83      0.57        23\n",
      "\n",
      "avg / total       0.78      0.66      0.68        85\n",
      "\n"
     ]
    }
   ],
   "source": [
    "# find optimal parameters\n",
    "estimator_lr = find_optimal_param(X_train_down, y_train_down, X_test, y_test, pipe_lr, param_grid)\n",
    "\n",
    "## Confusion matrix & classification report\n",
    "# get prediction\n",
    "y_pred_lr_label_down_samp = estimator_lr.predict(X_test)\n",
    "y_pred_lr_prob_down_samp = estimator_lr.predict_proba(X_test)\n",
    "\n",
    "# print confusion matrix and classification report\n",
    "classifier_stats(y_true=y_test, y_pred=y_pred_lr_label_down_samp)"
   ]
  },
  {
   "cell_type": "markdown",
   "metadata": {},
   "source": [
    "#### Up sampling"
   ]
  },
  {
   "cell_type": "code",
   "execution_count": 26,
   "metadata": {},
   "outputs": [
    {
     "name": "stdout",
     "output_type": "stream",
     "text": [
      "Training AUC : 0.732\n",
      "Best Parameters :  {'lr__C': 0.1, 'lr__penalty': 'l1', 'pca__n_components': 9}\n"
     ]
    },
    {
     "data": {
      "image/png": "[encoded data removed]",
      "text/plain": [
       "<matplotlib.figure.Figure at 0x1f4fa3ed7f0>"
      ]
     },
     "metadata": {},
     "output_type": "display_data"
    },
    {
     "name": "stdout",
     "output_type": "stream",
     "text": [
      "             precision    recall  f1-score   support\n",
      "\n",
      "          0       0.90      0.60      0.72        62\n",
      "          1       0.43      0.83      0.57        23\n",
      "\n",
      "avg / total       0.78      0.66      0.68        85\n",
      "\n"
     ]
    }
   ],
   "source": [
    "# find optimal parameters\n",
    "estimator_lr = find_optimal_param(X_train_down, y_train_down, X_test, y_test, pipe_lr, param_grid)\n",
    "\n",
    "## Confusion matrix & classification report\n",
    "# get prediction\n",
    "y_pred_lr_label_up_samp = estimator_lr.predict(X_test)\n",
    "y_pred_lr_prob_up_samp = estimator_lr.predict_proba(X_test)\n",
    "\n",
    "# print confusion matrix and classification report\n",
    "classifier_stats(y_true=y_test, y_pred=y_pred_lr_label_up_samp)"
   ]
  },
  {
   "cell_type": "code",
   "execution_count": null,
   "metadata": {
    "collapsed": true
   },
   "outputs": [],
   "source": []
  },
  {
   "cell_type": "markdown",
   "metadata": {},
   "source": [
    "## Summary of Modelling <a class=\"anchor\" id=\"summary\"></a>\n",
    "\n",
    "Here is the list of the optimal parameters for each dataset and classification models. These parameters are used for the further analysis: prediction and ensemble learning.\n",
    "\n",
    "```python\n",
    "KNN\n",
    "original {'knn__n_neighbors': 3, 'pca__n_components': 9}\n",
    "down {'knn__n_neighbors': 2, 'pca__n_components': 9}\n",
    "up {'knn__n_neighbors': 2, 'pca__n_components': 9}\n",
    "\n",
    "Random Forest\n",
    "original {'knn__max_depth': 4, 'knn__min_samples_leaf': 5, 'knn__n_estimators': 80}\n",
    "down {'knn__max_depth': 3, 'knn__min_samples_leaf': 5, 'knn__n_estimators': 40}\n",
    "up {'knn__max_depth': 5, 'knn__min_samples_leaf': 3, 'knn__n_estimators': 100}\n",
    "\n",
    "Logistic Regression\n",
    "original {'lr__C': 0.001, 'lr__penalty': 'l2', 'pca__n_components': 9}\n",
    "down {'lr__C': 0.1, 'lr__penalty': 'l1', 'pca__n_components': 9}\n",
    "up {'lr__C': 0.1, 'lr__penalty': 'l1', 'pca__n_components': 9}\n",
    "```\n"
   ]
  },
  {
   "cell_type": "markdown",
   "metadata": {
    "collapsed": true
   },
   "source": []
  },
  {
   "cell_type": "markdown",
   "metadata": {
    "collapsed": true
   },
   "source": [
    "### Generate each model with optimal parameter values"
   ]
  },
  {
   "cell_type": "code",
   "execution_count": 27,
   "metadata": {
    "collapsed": true
   },
   "outputs": [],
   "source": [
    "## Random Forest\n",
    "# without sampling\n",
    "rf_wo_pipe = Pipeline(steps=[\n",
    "    ('pca', PCA(n_components=9, random_state=1)),\n",
    "    ('knn', RandomForestClassifier(n_estimators=80, max_depth=4, min_samples_leaf=5, n_jobs=-1, random_state=1))\n",
    "])\n",
    "rf_wo = rf_wo_pipe.fit(X_train, y_train)\n",
    "\n",
    "# down sampling\n",
    "rf_down_pipe = Pipeline(steps=[\n",
    "    ('pca', PCA(n_components=9, random_state=1)),\n",
    "    ('knn', RandomForestClassifier(n_estimators=40, max_depth=3, min_samples_leaf=5, n_jobs=-1, random_state=1))\n",
    "])\n",
    "rf_down = rf_down_pipe.fit(X_train_down, y_train_down)\n",
    "\n",
    "# up sampling\n",
    "rf_up_pipe = Pipeline(steps=[\n",
    "    ('pca', PCA(n_components=9, random_state=1)),\n",
    "    ('knn', RandomForestClassifier(n_estimators=100, max_depth=5, min_samples_leaf=3, n_jobs=-1, random_state=1))\n",
    "])\n",
    "rf_up = rf_up_pipe.fit(X_train_up, y_train_up)"
   ]
  },
  {
   "cell_type": "code",
   "execution_count": null,
   "metadata": {
    "collapsed": true
   },
   "outputs": [],
   "source": []
  },
  {
   "cell_type": "code",
   "execution_count": 28,
   "metadata": {
    "collapsed": true
   },
   "outputs": [],
   "source": [
    "## Logistic Regression\n",
    "# without\n",
    "lr_wo_pipe = Pipeline(steps=[\n",
    "    ('scl', StandardScaler()),\n",
    "    ('pca', PCA(n_components=9, random_state=1)),\n",
    "    ('lr', LogisticRegression(penalty='l2', C=0.001, random_state=0, n_jobs=-1))\n",
    "])\n",
    "\n",
    "lr_wo = lr_wo_pipe.fit(X_train, y_train)\n",
    "\n",
    "# down / up sampling\n",
    "lr_down_pipe = Pipeline(steps=[\n",
    "    ('scl', StandardScaler()),\n",
    "    ('pca', PCA(n_components=9, random_state=1)),\n",
    "    ('lr', LogisticRegression(penalty='l1', C=0.1, random_state=0, n_jobs=-1))\n",
    "])\n",
    "lr_down = lr_down_pipe.fit(X_train_down, y_train_down)\n",
    "\n",
    "lr_up_pipe = Pipeline(steps=[\n",
    "    ('scl', StandardScaler()),\n",
    "    ('pca', PCA(n_components=9, random_state=1)),\n",
    "    ('lr', LogisticRegression(penalty='l1', C=0.1, random_state=0, n_jobs=-1))\n",
    "])\n",
    "lr_up = lr_up_pipe.fit(X_train_up, y_train_up)"
   ]
  },
  {
   "cell_type": "code",
   "execution_count": null,
   "metadata": {
    "collapsed": true
   },
   "outputs": [],
   "source": []
  },
  {
   "cell_type": "code",
   "execution_count": 29,
   "metadata": {
    "collapsed": true
   },
   "outputs": [],
   "source": [
    "## KNN\n",
    "# without sampling\n",
    "knn_wo_pipe = Pipeline(steps=[\n",
    "    ('scl', StandardScaler()),\n",
    "    ('pca', PCA(n_components=9, random_state=1)),\n",
    "    ('knn', KNeighborsClassifier(n_neighbors=3, p=2, metric='minkowski', n_jobs=-1))\n",
    "])\n",
    "knn_wo = knn_wo_pipe.fit(X_train, y_train)\n",
    "\n",
    "# down sampling\n",
    "knn_down_pipe = Pipeline(steps=[\n",
    "    ('scl', StandardScaler()),\n",
    "    ('pca', PCA(n_components=9, random_state=1)),\n",
    "    ('knn', KNeighborsClassifier(n_neighbors=2, p=2, metric='minkowski', n_jobs=-1))\n",
    "])\n",
    "knn_down = knn_down_pipe.fit(X_train_down, y_train_down)\n",
    "\n",
    "# up sampling\n",
    "knn_up_pipe = Pipeline(steps=[\n",
    "    ('scl', StandardScaler()),\n",
    "    ('pca', PCA(n_components=9, random_state=1)),\n",
    "    ('knn', KNeighborsClassifier(n_neighbors=2, p=2, metric='minkowski', n_jobs=-1))\n",
    "])\n",
    "knn_up = knn_up_pipe.fit(X_train_up, y_train_up)"
   ]
  },
  {
   "cell_type": "code",
   "execution_count": null,
   "metadata": {
    "collapsed": true
   },
   "outputs": [],
   "source": []
  },
  {
   "cell_type": "code",
   "execution_count": 30,
   "metadata": {
    "collapsed": true
   },
   "outputs": [],
   "source": [
    "# list of the predictive models with corresponding labels\n",
    "clf_labels = ['RF w/o', 'RF down', 'RF up', 'LR w/o', 'LR down', 'LR up', 'KNN w/o', 'KNN down', 'KNN up']\n",
    "all_clf    = [rf_wo, rf_down, rf_up, lr_wo, lr_down, lr_up, knn_wo, knn_down, knn_up]"
   ]
  },
  {
   "cell_type": "markdown",
   "metadata": {
    "collapsed": true
   },
   "source": [
    "`ROC AUC` metric for each models."
   ]
  },
  {
   "cell_type": "code",
   "execution_count": 31,
   "metadata": {},
   "outputs": [
    {
     "data": {
      "image/png": "[encoded data removed]",
      "text/plain": [
       "<matplotlib.figure.Figure at 0x1f485832630>"
      ]
     },
     "metadata": {},
     "output_type": "display_data"
    }
   ],
   "source": [
    "linestyles = [':', '--', '-.', '-', ':', '--', '-.', '-', ':']\n",
    "colors = iter(plt.cm.rainbow(np.linspace(0, 1, 10)))\n",
    "\n",
    "for clf, label, ls in zip(all_clf, clf_labels, linestyles):\n",
    "    \n",
    "    # assuming the label of the positive class is 1\n",
    "    y_pred = clf.predict_proba(X_test)[:, 1]\n",
    "    fpr, tpr, thresholds = roc_curve(y_true=y_test,\n",
    "                                     y_score=y_pred)\n",
    "    roc_auc = auc(x=fpr, y=tpr)\n",
    "    plt.plot(fpr, tpr,\n",
    "             color=next(colors),\n",
    "             linestyle=ls,\n",
    "             label='%s (auc = %0.2f)' % (label, roc_auc))\n",
    "\n",
    "plt.legend(loc='lower right')\n",
    "plt.plot([0, 1], [0, 1],\n",
    "         linestyle='--',\n",
    "         color='gray',\n",
    "         linewidth=2)\n",
    "\n",
    "plt.xlim([-0.1, 1.1])\n",
    "plt.ylim([-0.1, 1.1])\n",
    "plt.grid()\n",
    "plt.title('ROC AUC of each model')\n",
    "plt.xlabel('False Positive Rate')\n",
    "plt.ylabel('True Positive Rate')\n",
    "\n",
    "# plt.tight_layout()\n",
    "plt.savefig('../figures/roc.png', dpi=300)\n",
    "plt.show()"
   ]
  },
  {
   "cell_type": "code",
   "execution_count": null,
   "metadata": {
    "collapsed": true
   },
   "outputs": [],
   "source": []
  },
  {
   "cell_type": "code",
   "execution_count": null,
   "metadata": {
    "collapsed": true
   },
   "outputs": [],
   "source": []
  },
  {
   "cell_type": "markdown",
   "metadata": {},
   "source": [
    "# Ensemble learning <a class=\"anchor\" id=\"ensemble\"></a>\n",
    "\n",
    "Until now we had 9 models to predict kidney rejection. Instead of choosing one as a final model, we can combine their predictions into one data frame and perform another meta model on it. In order to evaluate the model performance, we split test data into test and validation datasets (`80%` and `20%` respectively). \n",
    "\n",
    "Pseudo code of Ensemble Learning:\n",
    "```python\n",
    "* For each dataset (original, up / down sampled) apply classification models (RF, LR, KNN)\n",
    "* Get probability prediction for test data from each model (9 model on total, so data frame with 9 columns and number of rows on test dataset observations)\n",
    "* Perform another meta-model (Random Forest) on probability prediction to predict kidney rejection (probability predictions as predictors and kidney rejection as target variable)\n",
    "```\n",
    "\n",
    "Following figure shows the steps of the Ensemble Learning."
   ]
  },
  {
   "cell_type": "code",
   "execution_count": 32,
   "metadata": {},
   "outputs": [
    {
     "data": {
      "image/png": "[encoded data removed]",
      "text/plain": [
       "<IPython.core.display.Image object>"
      ]
     },
     "execution_count": 32,
     "metadata": {},
     "output_type": "execute_result"
    }
   ],
   "source": [
    "Image(\"../figures/Ensemble Learning.png\")"
   ]
  },
  {
   "cell_type": "markdown",
   "metadata": {
    "collapsed": true
   },
   "source": [
    "Split test dataset into test and validation sets, in order to test Ensemble Learning model performance."
   ]
  },
  {
   "cell_type": "code",
   "execution_count": 33,
   "metadata": {
    "collapsed": true
   },
   "outputs": [],
   "source": [
    "# initialize Stratified splitting\n",
    "sss = StratifiedShuffleSplit(n_splits=1, test_size=0.20, random_state=1)\n",
    "\n",
    "for train_index, test_index in sss.split(X_test, y_test):\n",
    "    \n",
    "    X_test = X.loc[list(train_index), :] # train features w/o sampling\n",
    "    X_val  = X.loc[list(test_index), :] # test features\n",
    "    y_test = y[train_index] # train target w/o sampling\n",
    "    y_val  = y[test_index] # test target"
   ]
  },
  {
   "cell_type": "markdown",
   "metadata": {},
   "source": [
    "`ensemble_prediction` function allows us to get **probability prediction** of each model (in total 9) for test data."
   ]
  },
  {
   "cell_type": "code",
   "execution_count": 34,
   "metadata": {
    "collapsed": true,
    "scrolled": true
   },
   "outputs": [],
   "source": [
    "_, ensemble = ensemble_prediction(X_test, all_clf, clf_labels, ens_type='prob')"
   ]
  },
  {
   "cell_type": "markdown",
   "metadata": {},
   "source": [
    "After getting probability prediction dataframe, perform `meta-model` on it, in order to train a classification model to predict kidney rejection from probability prediction of 9 models.\n",
    "\n",
    "`GridSearchCV` is used to find the optimal parameter for `Random Forest`."
   ]
  },
  {
   "cell_type": "code",
   "execution_count": 35,
   "metadata": {},
   "outputs": [
    {
     "name": "stdout",
     "output_type": "stream",
     "text": [
      "Training AUC : 0.963\n",
      "Best Parameters :  {'knn__max_depth': 5, 'knn__min_samples_leaf': 3, 'knn__n_estimators': 100}\n"
     ]
    }
   ],
   "source": [
    "pipe_last = Pipeline(steps=[\n",
    "    ('knn', RandomForestClassifier(n_estimators=20, max_depth=2, min_samples_leaf=3, class_weight={0: 0.4, 1: 0.6}, n_jobs=-1))\n",
    "])\n",
    "\n",
    "# use a full grid over all parameters\n",
    "param_grid = [\n",
    "    {\n",
    "        'knn__n_estimators': [40, 60, 80, 100],\n",
    "        'knn__max_depth': [3, 4, 5],\n",
    "        'knn__min_samples_leaf' : [3, 4, 5]\n",
    "    }\n",
    "]\n",
    "\n",
    "# last is the random forest model with the best parameters from GridSearch\n",
    "last = find_optimal_param(ensemble.values, y_test, ensemble.values, y_test, pipe_last, param_grid)"
   ]
  },
  {
   "cell_type": "code",
   "execution_count": null,
   "metadata": {
    "collapsed": true
   },
   "outputs": [],
   "source": []
  },
  {
   "cell_type": "markdown",
   "metadata": {
    "collapsed": true
   },
   "source": [
    "Now we have meta-model and in order to evaluate the performance `validation` dataset will be used."
   ]
  },
  {
   "cell_type": "code",
   "execution_count": 36,
   "metadata": {
    "collapsed": true
   },
   "outputs": [],
   "source": [
    "# get probability prediction of 9 models for validation dataset\n",
    "_, ensemble_pred = ensemble_prediction(X_val, all_clf, clf_labels, ens_type='prob')"
   ]
  },
  {
   "cell_type": "code",
   "execution_count": 37,
   "metadata": {},
   "outputs": [
    {
     "data": {
      "image/png": "[encoded data removed]",
      "text/plain": [
       "<matplotlib.figure.Figure at 0x1f48b40ec50>"
      ]
     },
     "metadata": {},
     "output_type": "display_data"
    },
    {
     "name": "stdout",
     "output_type": "stream",
     "text": [
      "             precision    recall  f1-score   support\n",
      "\n",
      "          0       0.83      1.00      0.91        10\n",
      "          1       1.00      0.71      0.83         7\n",
      "\n",
      "avg / total       0.90      0.88      0.88        17\n",
      "\n"
     ]
    }
   ],
   "source": [
    "# get label prediction from meta model based on probability prediction\n",
    "meta_model_pred = last.predict(ensemble_pred)\n",
    "\n",
    "# get classification statistics\n",
    "classifier_stats(y_pred=meta_model_pred, y_true=y_val)"
   ]
  },
  {
   "cell_type": "markdown",
   "metadata": {},
   "source": [
    "Calculate `ROC AUC` metric for validation dataset."
   ]
  },
  {
   "cell_type": "code",
   "execution_count": 38,
   "metadata": {},
   "outputs": [
    {
     "name": "stdout",
     "output_type": "stream",
     "text": [
      "Validation AUC : 1.000\n"
     ]
    }
   ],
   "source": [
    "y_pred = last.predict_proba(ensemble_pred)[:, 1]\n",
    "fpr, tpr, thresholds = roc_curve(y_true=y_val,\n",
    "                                 y_score=y_pred)\n",
    "roc_auc = auc(x=fpr, y=tpr)\n",
    "print('Validation AUC : %.3f' % roc_auc)"
   ]
  },
  {
   "cell_type": "code",
   "execution_count": null,
   "metadata": {
    "collapsed": true
   },
   "outputs": [],
   "source": []
  }
 ],
 "metadata": {
  "kernelspec": {
   "display_name": "Python 3",
   "language": "python",
   "name": "python3"
  },
  "language_info": {
   "codemirror_mode": {
    "name": "ipython",
    "version": 3
   },
   "file_extension": ".py",
   "mimetype": "text/x-python",
   "name": "python",
   "nbconvert_exporter": "python",
   "pygments_lexer": "ipython3",
   "version": "3.6.1"
  }
 },
 "nbformat": 4,
 "nbformat_minor": 2
}
